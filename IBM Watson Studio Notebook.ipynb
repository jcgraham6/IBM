{
 "cells": [
  {
   "cell_type": "markdown",
   "id": "ce2be7de",
   "metadata": {},
   "source": [
    "<h1>My Jupyter Notebook on IBM Watson Studio   *IBM Studio refused to let me create an account*</h1>"
   ]
  },
  {
   "cell_type": "markdown",
   "id": "8fcd89ba",
   "metadata": {},
   "source": [
    "<b>James Graham</b>\n",
    "<br>Currently working as a data scientist at a tech company</br>"
   ]
  },
  {
   "cell_type": "markdown",
   "id": "efa7d14f",
   "metadata": {},
   "source": [
    "<em>I am interested in data science because of all the different applications and uses cases from professional to personal. Additionally, there is no single way to approach or solve a problem. </em>"
   ]
  },
  {
   "cell_type": "markdown",
   "id": "0dd1c8e7",
   "metadata": {},
   "source": [
    "<H3>My code in the cell below (5) is intended to print IBM a total of 5 times."
   ]
  },
  {
   "cell_type": "code",
   "execution_count": 2,
   "id": "e54394e3",
   "metadata": {},
   "outputs": [
    {
     "name": "stdout",
     "output_type": "stream",
     "text": [
      "IBM\n",
      "IBM\n",
      "IBM\n",
      "IBM\n",
      "IBM\n"
     ]
    }
   ],
   "source": [
    "for x in range(1,6):\n",
    "    print('IBM')"
   ]
  },
  {
   "cell_type": "markdown",
   "id": "e670d00f",
   "metadata": {},
   "source": [
    "Here is ~~your~~ my to do list\n",
    "___\n",
    "\n",
    "+ Complete course\n",
    "+ Grocery Shopping\n",
    "+ Solve World Peace\n",
    "+ Early to bed"
   ]
  }
 ],
 "metadata": {
  "kernelspec": {
   "display_name": "Python 3 (ipykernel)",
   "language": "python",
   "name": "python3"
  },
  "language_info": {
   "codemirror_mode": {
    "name": "ipython",
    "version": 3
   },
   "file_extension": ".py",
   "mimetype": "text/x-python",
   "name": "python",
   "nbconvert_exporter": "python",
   "pygments_lexer": "ipython3",
   "version": "3.9.13"
  }
 },
 "nbformat": 4,
 "nbformat_minor": 5
}
